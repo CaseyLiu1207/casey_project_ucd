{
 "cells": [
  {
   "cell_type": "code",
   "execution_count": 1,
   "metadata": {},
   "outputs": [],
   "source": [
    "import numpy as np\n",
    "from scipy.linalg import svd"
   ]
  },
  {
   "cell_type": "code",
   "execution_count": 2,
   "metadata": {},
   "outputs": [],
   "source": [
    "class SingularValueRegressor:\n",
    "    \"\"\"\n",
    "    : A regression object that uses the SVD to fit and predict\n",
    "    : Init: specify rank r\n",
    "    : .fit: solve the SVD of X and precompute beta\n",
    "    : .predict: Return y hat for X_test\n",
    "    \"\"\"\n",
    "    \n",
    "    def __init__(self,r):\n",
    "        \"\"\"\n",
    "        : Store the rank\n",
    "        \"\"\"\n",
    "        self.r = r\n",
    "        \n",
    "        \n",
    "    def fit(self, X, y):\n",
    "        \"\"\"\n",
    "        : Computes and stores the SVD (use scipy.linalg.svd)\n",
    "        : Computes beta for rank r singular value regression\n",
    "        \"\"\"\n",
    "        u,d,vh = svd(X,full_matrices = False)\n",
    "        \n",
    "        v = np.transpose (vh)\n",
    "        ut = np.transpose(u)\n",
    "        \n",
    "        \n",
    "        d_1 = d ** (-1)\n",
    "        d_1[self.r:] = 0\n",
    "        d_1_m = np.diag(d_1)\n",
    "        \n",
    "        self.beta = v @ d_1_m @ ut @ y\n",
    "        y_hat = u @ ut @ y\n",
    "        \n",
    "        return self.beta, y_hat\n",
    "        \n",
    "    def predict(self, X_test):\n",
    "        \"\"\"\n",
    "        : Outputs the predicted y given the predictors X_test\n",
    "        \"\"\"\n",
    "        self.X_test=X_test\n",
    "        \n",
    "        predicted_y = self.X_test @ self.beta\n",
    "        \n",
    "        return predicted_y\n",
    "    \n",
    "    \n",
    "    def change_rank(self,r):\n",
    "        \"\"\"\n",
    "        : Assumes that the SVD has been computed and uses it to change the rank; after\n",
    "        : running the new regressor object should be as if we fit with the new rank r\n",
    "        \"\"\"\n",
    "        self.r = r\n",
    "        \n",
    "        return self.predict(self.X_test)"
   ]
  },
  {
   "cell_type": "code",
   "execution_count": 3,
   "metadata": {},
   "outputs": [],
   "source": [
    "def gen_LR_data(r = 10, p = 20, n = 100):\n",
    "    \"\"\"\n",
    "    : generate data from an approx low rank regression model\n",
    "    \"\"\"\n",
    "    alpha = np.random.chisquare(1,size = (p,r)) #X coefficients\n",
    "    Z = np.random.normal(size=(n,r)) #X covariates\n",
    "    beta = np.random.normal(size = r) #reg covs\n",
    "    mu = Z @ beta #hidden mean\n",
    "    Xmean = Z @ alpha.T #random transformation of Z\n",
    "    X = Xmean + np.random.normal(0,.5,size=(n,p)) #add noise - not exactly low rank\n",
    "    X_test = Xmean + np.random.normal(0,.5,size=(n,p))\n",
    "    y = mu + np.random.normal(0,1,size=(n))\n",
    "    y_test = mu + np.random.normal(0,1,size=(n))\n",
    "    return (X,y,X_test,y_test)"
   ]
  },
  {
   "cell_type": "code",
   "execution_count": 4,
   "metadata": {},
   "outputs": [],
   "source": [
    "x,y,x_test,y_test = gen_LR_data()\n",
    "x_test = x_test-x_test.mean(0) #center x test\n",
    "x = x - x.mean(0) #center x"
   ]
  },
  {
   "cell_type": "code",
   "execution_count": 5,
   "metadata": {},
   "outputs": [],
   "source": [
    "def sse (r):\n",
    "    svr = SingularValueRegressor(r)\n",
    "    svr.fit(x,y)\n",
    "    svr.predict(x_test)\n",
    "    y_hat = svr.change_rank(r)\n",
    "    sse = (np.sum((y_hat - y_test)**2))\n",
    "    return sse"
   ]
  },
  {
   "cell_type": "code",
   "execution_count": 6,
   "metadata": {},
   "outputs": [],
   "source": [
    "see_all = [sse(i) for i in range(1,30)]"
   ]
  },
  {
   "cell_type": "code",
   "execution_count": 7,
   "metadata": {},
   "outputs": [],
   "source": [
    "import matplotlib.pyplot as plt\n"
   ]
  },
  {
   "cell_type": "code",
   "execution_count": 8,
   "metadata": {
    "scrolled": true
   },
   "outputs": [
    {
     "data": {
      "image/png": "[encoded data removed]",
      "text/plain": [
       "<matplotlib.figure.Figure at 0x617afbfd0>"
      ]
     },
     "metadata": {},
     "output_type": "display_data"
    }
   ],
   "source": [
    "plt.plot(see_all)\n",
    "plt.ylabel('mse')\n",
    "plt.xlabel('r')\n",
    "plt.show()"
   ]
  },
  {
   "cell_type": "code",
   "execution_count": 10,
   "metadata": {},
   "outputs": [],
   "source": [
    "import numpy as np\n",
    "import pandas as pd\n",
    "import matplotlib.pyplot as plt\n",
    "from sklearn.model_selection import LeaveOneOut\n",
    "from sklearn import linear_model, neighbors\n",
    "from sklearn.preprocessing import scale \n",
    "from sklearn.linear_model import LinearRegression, Ridge, RidgeCV, Lasso, LassoCV\n",
    "from sklearn.decomposition import PCA\n",
    "from sklearn.metrics import mean_squared_error\n",
    "%matplotlib inline\n",
    "plt.style.use('ggplot')\n",
    "\n",
    "# dataset path\n",
    "data_dir = \".\""
   ]
  },
  {
   "cell_type": "code",
   "execution_count": 11,
   "metadata": {},
   "outputs": [
    {
     "data": {
      "text/html": [
       "<div>\n",
       "<style scoped>\n",
       "    .dataframe tbody tr th:only-of-type {\n",
       "        vertical-align: middle;\n",
       "    }\n",
       "\n",
       "    .dataframe tbody tr th {\n",
       "        vertical-align: top;\n",
       "    }\n",
       "\n",
       "    .dataframe thead th {\n",
       "        text-align: right;\n",
       "    }\n",
       "</style>\n",
       "<table border=\"1\" class=\"dataframe\">\n",
       "  <thead>\n",
       "    <tr style=\"text-align: right;\">\n",
       "      <th></th>\n",
       "      <th>Y</th>\n",
       "      <th>X1</th>\n",
       "      <th>X2</th>\n",
       "      <th>X3</th>\n",
       "      <th>X4</th>\n",
       "      <th>X5</th>\n",
       "      <th>X6</th>\n",
       "      <th>X7</th>\n",
       "    </tr>\n",
       "  </thead>\n",
       "  <tbody>\n",
       "    <tr>\n",
       "      <th>0</th>\n",
       "      <td>18.0</td>\n",
       "      <td>8.0</td>\n",
       "      <td>307.0</td>\n",
       "      <td>130.0</td>\n",
       "      <td>3504.0</td>\n",
       "      <td>12.0</td>\n",
       "      <td>70.0</td>\n",
       "      <td>1.0</td>\n",
       "    </tr>\n",
       "    <tr>\n",
       "      <th>1</th>\n",
       "      <td>15.0</td>\n",
       "      <td>8.0</td>\n",
       "      <td>350.0</td>\n",
       "      <td>165.0</td>\n",
       "      <td>3693.0</td>\n",
       "      <td>11.5</td>\n",
       "      <td>70.0</td>\n",
       "      <td>1.0</td>\n",
       "    </tr>\n",
       "    <tr>\n",
       "      <th>2</th>\n",
       "      <td>18.0</td>\n",
       "      <td>8.0</td>\n",
       "      <td>318.0</td>\n",
       "      <td>150.0</td>\n",
       "      <td>3436.0</td>\n",
       "      <td>11.0</td>\n",
       "      <td>70.0</td>\n",
       "      <td>1.0</td>\n",
       "    </tr>\n",
       "    <tr>\n",
       "      <th>3</th>\n",
       "      <td>16.0</td>\n",
       "      <td>8.0</td>\n",
       "      <td>304.0</td>\n",
       "      <td>150.0</td>\n",
       "      <td>3433.0</td>\n",
       "      <td>12.0</td>\n",
       "      <td>70.0</td>\n",
       "      <td>1.0</td>\n",
       "    </tr>\n",
       "    <tr>\n",
       "      <th>4</th>\n",
       "      <td>17.0</td>\n",
       "      <td>8.0</td>\n",
       "      <td>302.0</td>\n",
       "      <td>140.0</td>\n",
       "      <td>3449.0</td>\n",
       "      <td>10.5</td>\n",
       "      <td>70.0</td>\n",
       "      <td>1.0</td>\n",
       "    </tr>\n",
       "  </tbody>\n",
       "</table>\n",
       "</div>"
      ],
      "text/plain": [
       "      Y   X1     X2     X3      X4    X5    X6   X7\n",
       "0  18.0  8.0  307.0  130.0  3504.0  12.0  70.0  1.0\n",
       "1  15.0  8.0  350.0  165.0  3693.0  11.5  70.0  1.0\n",
       "2  18.0  8.0  318.0  150.0  3436.0  11.0  70.0  1.0\n",
       "3  16.0  8.0  304.0  150.0  3433.0  12.0  70.0  1.0\n",
       "4  17.0  8.0  302.0  140.0  3449.0  10.5  70.0  1.0"
      ]
     },
     "execution_count": 11,
     "metadata": {},
     "output_type": "execute_result"
    }
   ],
   "source": [
    "data_mat = pd.read_csv('hw1_data.csv')\n",
    "data_mat.head()"
   ]
  },
  {
   "cell_type": "code",
   "execution_count": 12,
   "metadata": {},
   "outputs": [
    {
     "data": {
      "text/plain": [
       "Y     0\n",
       "X1    0\n",
       "X2    0\n",
       "X3    6\n",
       "X4    0\n",
       "X5    0\n",
       "X6    0\n",
       "X7    0\n",
       "dtype: int64"
      ]
     },
     "execution_count": 12,
     "metadata": {},
     "output_type": "execute_result"
    }
   ],
   "source": [
    "#checking null value in matrix\n",
    "data_mat.isnull().sum()"
   ]
  },
  {
   "cell_type": "code",
   "execution_count": 13,
   "metadata": {},
   "outputs": [
    {
     "data": {
      "text/plain": [
       "(104.46938775510205, 93.5)"
      ]
     },
     "execution_count": 13,
     "metadata": {},
     "output_type": "execute_result"
    }
   ],
   "source": [
    "data_mat.mean(0)[3], data_mat.median(0)[3]"
   ]
  },
  {
   "cell_type": "markdown",
   "metadata": {},
   "source": [
    "by checking if there is any nan in the matrix, we can tell only x3 has 6 null values. One solution is to replace all null value with the median of x3, since simply deleting them might lose some information. Thus we check the median and mean of x3. From above, we can tell that the mean and median are close to each other, thus we conclude, we are able to replace all null value in x3 with the median of x3. "
   ]
  },
  {
   "cell_type": "code",
   "execution_count": 14,
   "metadata": {},
   "outputs": [],
   "source": [
    "data_mat['X3'] = data_mat.X3.replace(np.NaN, data_mat.median(0)[3])"
   ]
  },
  {
   "cell_type": "code",
   "execution_count": 15,
   "metadata": {},
   "outputs": [
    {
     "data": {
      "text/plain": [
       "Y     0\n",
       "X1    0\n",
       "X2    0\n",
       "X3    0\n",
       "X4    0\n",
       "X5    0\n",
       "X6    0\n",
       "X7    0\n",
       "dtype: int64"
      ]
     },
     "execution_count": 15,
     "metadata": {},
     "output_type": "execute_result"
    }
   ],
   "source": [
    "data_mat.isnull().sum()"
   ]
  },
  {
   "cell_type": "markdown",
   "metadata": {},
   "source": [
    "By checking null value again, we are sure that there is no null value exists anymore in the matrix."
   ]
  },
  {
   "cell_type": "code",
   "execution_count": 16,
   "metadata": {},
   "outputs": [],
   "source": [
    "x = np.array(data_mat.iloc[:,1:])\n",
    "x = scale(x)  #scale all x to same scale\n",
    "y = np.array(data_mat.iloc[:,0])"
   ]
  },
  {
   "cell_type": "code",
   "execution_count": 17,
   "metadata": {},
   "outputs": [],
   "source": [
    "def loo_risk(X,y,regmod):\n",
    "    \"\"\"\n",
    "    Construct the leave-one-out square error risk for a regression model\n",
    "    \n",
    "    Input: design matrix, X, response vector, y, a regression model, regmod\n",
    "    Output: scalar LOO risk\n",
    "    \"\"\"\n",
    "    loo = LeaveOneOut()\n",
    "    loo_losses = []\n",
    "    for train_index, test_index in loo.split(X):\n",
    "        X_train, X_test = X[train_index], X[test_index]\n",
    "        y_train, y_test = y[train_index], y[test_index]\n",
    "        regmod.fit(X_train,y_train)\n",
    "        y_hat = regmod.predict(X_test)\n",
    "        loss = np.sum((y_hat - y_test)**2)\n",
    "        loo_losses.append(loss)\n",
    "    return np.mean(loo_losses)\n",
    "\n",
    "def emp_risk(X,y,regmod):\n",
    "    \"\"\"\n",
    "    Return the empirical risk for square error loss\n",
    "    \n",
    "    Input: design matrix, X, response vector, y, a regression model, regmod\n",
    "    Output: scalar empirical risk\n",
    "    \"\"\"\n",
    "    regmod.fit(X,y)\n",
    "    y_hat = regmod.predict(X)\n",
    "    return np.mean((y_hat - y)**2)"
   ]
  },
  {
   "cell_type": "markdown",
   "metadata": {},
   "source": [
    "## Ridge Regression"
   ]
  },
  {
   "cell_type": "code",
   "execution_count": 22,
   "metadata": {},
   "outputs": [
    {
     "data": {
      "image/png": "[encoded data removed]",
      "text/plain": [
       "<matplotlib.figure.Figure at 0x1a1b780518>"
      ]
     },
     "metadata": {},
     "output_type": "display_data"
    }
   ],
   "source": [
    "ridge = Ridge()\n",
    "alphas = np.linspace(30,0.001,100)\n",
    "rcv = RidgeCV(alphas = alphas, store_cv_values=True,normalize=True)\n",
    "rcv.fit(x,y)\n",
    "coefs = []\n",
    "cv_vals = rcv.cv_values_\n",
    "LOOr = cv_vals.mean(axis=0)\n",
    "\n",
    "for a in alphas:\n",
    "    ridge.set_params(alpha=a)\n",
    "    ridge.fit(scale(x), y)\n",
    "    coefs.append(ridge.coef_)\n",
    "\n",
    "plt.plot(alphas,LOOr)\n",
    "plt.xlabel('lambda')\n",
    "plt.ylabel('Risk')\n",
    "plt.title('LOO Risk for Ridge');\n",
    "plt.show()"
   ]
  },
  {
   "cell_type": "code",
   "execution_count": 23,
   "metadata": {},
   "outputs": [
    {
     "data": {
      "text/plain": [
       "(11.428758995869076, 0.001)"
      ]
     },
     "execution_count": 23,
     "metadata": {},
     "output_type": "execute_result"
    }
   ],
   "source": [
    "min(LOOr),min(alphas)"
   ]
  },
  {
   "cell_type": "markdown",
   "metadata": {},
   "source": [
    "Notice that lambda could not take value of 0, thus in order to estimate lambda = 0, we use a value that is close enough to 0, which is 0.001.The above plot shows that MSE get the smallest value when lambda is the samllest, since the function is monotonic increasing on lambda, thus when lambda = 0, MSE get the samllest value, which is a value samller than 11.4288."
   ]
  },
  {
   "cell_type": "markdown",
   "metadata": {},
   "source": [
    "## OLS"
   ]
  },
  {
   "cell_type": "code",
   "execution_count": 24,
   "metadata": {},
   "outputs": [
    {
     "data": {
      "text/plain": [
       "11.433893575239953"
      ]
     },
     "execution_count": 24,
     "metadata": {},
     "output_type": "execute_result"
    }
   ],
   "source": [
    "loo_risk(x,y,linear_model.LinearRegression(fit_intercept=True) )"
   ]
  },
  {
   "cell_type": "raw",
   "metadata": {},
   "source": [
    "Recall that OLS is equivalent to lambda = 0 in ridge regression, thus ridge regression fits better than OLS, with smllest MSE value for ridge is smaller than OLS's. "
   ]
  },
  {
   "cell_type": "markdown",
   "metadata": {},
   "source": [
    "## kNN"
   ]
  },
  {
   "cell_type": "code",
   "execution_count": 25,
   "metadata": {},
   "outputs": [
    {
     "data": {
      "image/png": "[encoded data removed]",
      "text/plain": [
       "<matplotlib.figure.Figure at 0x111d5c0b8>"
      ]
     },
     "metadata": {},
     "output_type": "display_data"
    }
   ],
   "source": [
    "LOOs = []\n",
    "MSEs = []\n",
    "K=20#tuning k from 1 to 20\n",
    "Ks = range(1,K+1)\n",
    "for k in Ks:\n",
    "    knn = neighbors.KNeighborsRegressor(n_neighbors=k)\n",
    "    LOOs.append(loo_risk(x,y,knn))\n",
    "\n",
    "plt.plot(Ks,LOOs,'r',label=\"LOO risk\")\n",
    "plt.title(\"Risks for kNN Regression\")\n",
    "plt.legend()\n",
    "_ = plt.xlabel('k')"
   ]
  },
  {
   "cell_type": "code",
   "execution_count": 26,
   "metadata": {},
   "outputs": [
    {
     "data": {
      "text/plain": [
       "(8.488846272177211, 6)"
      ]
     },
     "execution_count": 26,
     "metadata": {},
     "output_type": "execute_result"
    }
   ],
   "source": [
    "min((val, idx) for (idx, val) in enumerate(LOOs))"
   ]
  },
  {
   "cell_type": "raw",
   "metadata": {},
   "source": [
    "Based on above, kNN has the samllest MSE value, 8.4888, when k = 7( 6 is the index, thus 7 is the real value)"
   ]
  },
  {
   "cell_type": "markdown",
   "metadata": {},
   "source": [
    "## SVRegression"
   ]
  },
  {
   "cell_type": "code",
   "execution_count": 27,
   "metadata": {},
   "outputs": [
    {
     "data": {
      "image/png": "[encoded data removed]",
      "text/plain": [
       "<matplotlib.figure.Figure at 0x1a1b77cfd0>"
      ]
     },
     "metadata": {},
     "output_type": "display_data"
    }
   ],
   "source": [
    "x_svr=np.insert(x, 0, 1, axis=1)\n",
    "LOOs = []\n",
    "\n",
    "Ks = range(1,10) #tuning k from 1 to 10\n",
    "for k in Ks:\n",
    "    svr = SingularValueRegressor(k)\n",
    "    LOOs.append(loo_risk(x_svr,y,svr))\n",
    "\n",
    "\n",
    "plt.plot(Ks,LOOs,'r',label=\"LOO risk\")\n",
    "plt.title(\"Risks for svr Regression\")\n",
    "plt.legend()\n",
    "_ = plt.xlabel('r')"
   ]
  },
  {
   "cell_type": "code",
   "execution_count": 28,
   "metadata": {},
   "outputs": [
    {
     "data": {
      "text/plain": [
       "(11.433893575239953, 7)"
      ]
     },
     "execution_count": 28,
     "metadata": {},
     "output_type": "execute_result"
    }
   ],
   "source": [
    "min((val, idx) for (idx, val) in enumerate(LOOs))"
   ]
  },
  {
   "cell_type": "markdown",
   "metadata": {},
   "source": [
    "Based on above, kNN has the samllest MSE value, 11.433893575239953, when r = 8( 7 is the index, thus 7 is the real value), which is the same as OLS method."
   ]
  },
  {
   "cell_type": "markdown",
   "metadata": {},
   "source": [
    "### Conclusion:\n",
    "Based on comparing above four method usding LOO method for cross validation, kNN has the samllest MSE, and thus, it's the best method to fit this model. "
   ]
  },
  {
   "cell_type": "code",
   "execution_count": null,
   "metadata": {},
   "outputs": [],
   "source": []
  }
 ],
 "metadata": {
  "kernelspec": {
   "display_name": "Python 3",
   "language": "python",
   "name": "python3"
  },
  "language_info": {
   "codemirror_mode": {
    "name": "ipython",
    "version": 3
   },
   "file_extension": ".py",
   "mimetype": "text/x-python",
   "name": "python",
   "nbconvert_exporter": "python",
   "pygments_lexer": "ipython3",
   "version": "3.6.4"
  }
 },
 "nbformat": 4,
 "nbformat_minor": 2
}
