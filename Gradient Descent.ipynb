{
 "cells": [
  {
   "cell_type": "code",
   "execution_count": 2,
   "metadata": {},
   "outputs": [],
   "source": [
    "from sklearn import datasets\n",
    "import numpy as np\n",
    "from sklearn.linear_model import Ridge"
   ]
  },
  {
   "cell_type": "code",
   "execution_count": 3,
   "metadata": {},
   "outputs": [],
   "source": [
    "filename = \"/Users/yilanliu/Desktop/UC DAVIS/STA 141C/HW1/cpusmall.txt\"\n",
    "X,y = datasets.load_svmlight_file(filename)"
   ]
  },
  {
   "cell_type": "code",
   "execution_count": 4,
   "metadata": {},
   "outputs": [],
   "source": [
    "from scipy import sparse"
   ]
  },
  {
   "cell_type": "code",
   "execution_count": 5,
   "metadata": {},
   "outputs": [],
   "source": [
    "X = sparse.csr_matrix.todense(X)"
   ]
  },
  {
   "cell_type": "code",
   "execution_count": 6,
   "metadata": {},
   "outputs": [],
   "source": [
    "from sklearn import preprocessing\n",
    "X = preprocessing.scale(X)\n",
    "y = preprocessing.scale(y)"
   ]
  },
  {
   "cell_type": "code",
   "execution_count": 7,
   "metadata": {},
   "outputs": [],
   "source": [
    "initial_value = np.transpose(np.matrix(np.random.uniform(-0.05,0.05,12)))"
   ]
  },
  {
   "cell_type": "code",
   "execution_count": 8,
   "metadata": {},
   "outputs": [],
   "source": [
    "y = np.transpose(y)\n",
    "y = y.reshape(8192,1)"
   ]
  },
  {
   "cell_type": "code",
   "execution_count": 9,
   "metadata": {},
   "outputs": [],
   "source": [
    "def gradient(w,X,y):\n",
    "    n,p = X.shape\n",
    "    XT = X.T\n",
    "    gradient = (2/n)*(XT @ (X @ w - y) ) +w\n",
    "    return gradient"
   ]
  },
  {
   "cell_type": "code",
   "execution_count": 10,
   "metadata": {},
   "outputs": [],
   "source": [
    "def norm(a):\n",
    "    return np.linalg.norm(a)\n"
   ]
  },
  {
   "cell_type": "code",
   "execution_count": 11,
   "metadata": {},
   "outputs": [],
   "source": [
    "def gradient_descent_1 (w,eita,X,y,limit):\n",
    "    \n",
    "    \n",
    "    r_0 = norm(w)\n",
    "    error = 0.001\n",
    "    r_0_error = r_0 * error\n",
    "\n",
    "\n",
    "    for i in range (0,limit) : \n",
    "        gradient_for_one = gradient(w,X,y)\n",
    "        norm_for_one = norm(gradient_for_one)\n",
    "        if (norm_for_one < r_0_error):\n",
    "            break\n",
    "        else :\n",
    "            \n",
    "            w = w - eita * gradient_for_one;\n",
    "            \n",
    "    return w"
   ]
  },
  {
   "cell_type": "code",
   "execution_count": 12,
   "metadata": {},
   "outputs": [],
   "source": [
    "eita_list = [0.01,0.001,0.0001,0.00001,0.000001,0.0000001]"
   ]
  },
  {
   "cell_type": "code",
   "execution_count": 13,
   "metadata": {},
   "outputs": [
    {
     "name": "stdout",
     "output_type": "stream",
     "text": [
      "For  0.01\n",
      "[[-0.03584202]\n",
      " [-0.00578563]\n",
      " [-0.03303181]\n",
      " [-0.03835415]\n",
      " [-0.02203995]\n",
      " [-0.14006302]\n",
      " [-0.06934711]\n",
      " [-0.0669861 ]\n",
      " [-0.05440737]\n",
      " [-0.32008189]\n",
      " [-0.00627788]\n",
      " [ 0.30180186]]\n",
      "For  0.001\n",
      "[[-0.0486647 ]\n",
      " [-0.00655425]\n",
      " [-0.0600501 ]\n",
      " [-0.06240208]\n",
      " [-0.0061649 ]\n",
      " [-0.10053875]\n",
      " [-0.0347275 ]\n",
      " [-0.08914474]\n",
      " [-0.04227347]\n",
      " [-0.14432854]\n",
      " [ 0.0601646 ]\n",
      " [ 0.15205827]]\n",
      "For  0.0001\n",
      "[[-0.04330552]\n",
      " [ 0.00546534]\n",
      " [-0.03354192]\n",
      " [-0.03289586]\n",
      " [ 0.0263771 ]\n",
      " [-0.04994577]\n",
      " [ 0.01617251]\n",
      " [-0.05779627]\n",
      " [ 0.00367169]\n",
      " [ 0.02275041]\n",
      " [ 0.03638957]\n",
      " [ 0.00392614]]\n",
      "For  1e-05\n",
      "[[-0.04094556]\n",
      " [ 0.00858591]\n",
      " [-0.0252464 ]\n",
      " [-0.02403713]\n",
      " [ 0.03483165]\n",
      " [-0.04007967]\n",
      " [ 0.02541883]\n",
      " [-0.04964782]\n",
      " [ 0.01320526]\n",
      " [ 0.04708432]\n",
      " [ 0.02901403]\n",
      " [-0.01981593]]\n",
      "For  1e-06\n",
      "[[-0.04067653]\n",
      " [ 0.00893122]\n",
      " [-0.02431755]\n",
      " [-0.02304706]\n",
      " [ 0.0357693 ]\n",
      " [-0.03901294]\n",
      " [ 0.02640984]\n",
      " [-0.048748  ]\n",
      " [ 0.01423942]\n",
      " [ 0.04961965]\n",
      " [ 0.02819396]\n",
      " [-0.0223217 ]]\n",
      "For  1e-07\n",
      "[[-0.04064927]\n",
      " [ 0.00896611]\n",
      " [-0.02422361]\n",
      " [-0.02294695]\n",
      " [ 0.03586405]\n",
      " [-0.03890542]\n",
      " [ 0.02650964]\n",
      " [-0.04865712]\n",
      " [ 0.01434369]\n",
      " [ 0.04987423]\n",
      " [ 0.02811108]\n",
      " [-0.02257365]]\n"
     ]
    }
   ],
   "source": [
    "for i in range(6):\n",
    "    print(\"For \", eita_list[i] )\n",
    "    print(gradient_descent_1(initial_value,eita_list[i],X,y,200))"
   ]
  },
  {
   "cell_type": "code",
   "execution_count": 14,
   "metadata": {},
   "outputs": [],
   "source": [
    "from sklearn.model_selection import train_test_split"
   ]
  },
  {
   "cell_type": "code",
   "execution_count": 15,
   "metadata": {},
   "outputs": [],
   "source": [
    "from sklearn.metrics import mean_squared_error\n",
    "\n",
    "\n",
    "def MSE_for_ridge(X_train, X_test, y_train, y_test):\n",
    "    ridge = Ridge(alpha=1.0)\n",
    "    ridge.fit(X_train,y_train)\n",
    "    y_pred = ridge.predict(X_test) \n",
    "    n = len(X_test)\n",
    "    mse = sum((y_pred - y_test) ** 2)/n\n",
    "    \n",
    "    return mse"
   ]
  },
  {
   "cell_type": "code",
   "execution_count": 16,
   "metadata": {},
   "outputs": [],
   "source": [
    "# create training and testing vars\n",
    "from sklearn.model_selection import RepeatedKFold\n",
    "kf = RepeatedKFold(n_splits=5, n_repeats=1, random_state=None) \n",
    "\n",
    "mse_score = []\n",
    "for train_index, test_index in kf.split(X):\n",
    "    \n",
    "    X_train, X_test = X[train_index], X[test_index] \n",
    "    y_train, y_test = y[train_index], y[test_index]\n",
    "    \n",
    "    \n",
    "\n",
    "    \n",
    "    MSE_for_one =  MSE_for_ridge(X_train, X_test, y_train, y_test )\n",
    "    \n",
    "    mse_score.append(MSE_for_one)"
   ]
  },
  {
   "cell_type": "code",
   "execution_count": 17,
   "metadata": {},
   "outputs": [
    {
     "data": {
      "text/plain": [
       "[array([0.29540354]),\n",
       " array([0.31154248]),\n",
       " array([0.27273623]),\n",
       " array([0.24698233]),\n",
       " array([0.30989675])]"
      ]
     },
     "execution_count": 17,
     "metadata": {},
     "output_type": "execute_result"
    }
   ],
   "source": [
    "mse_score"
   ]
  },
  {
   "cell_type": "code",
   "execution_count": 18,
   "metadata": {},
   "outputs": [
    {
     "data": {
      "text/plain": [
       "array([0.28731227])"
      ]
     },
     "execution_count": 18,
     "metadata": {},
     "output_type": "execute_result"
    }
   ],
   "source": [
    "sum(mse_score)/len(mse_score)"
   ]
  },
  {
   "cell_type": "code",
   "execution_count": 19,
   "metadata": {},
   "outputs": [],
   "source": [
    "def file_processor (filename):\n",
    "    X , y = datasets.load_svmlight_file(filename)\n",
    "    X = sparse.csr_matrix(X)\n",
    "    y = np.matrix(y).T\n",
    "    y = sparse.csr_matrix(y)\n",
    "    return X,y"
   ]
  },
  {
   "cell_type": "code",
   "execution_count": 20,
   "metadata": {
    "scrolled": false
   },
   "outputs": [],
   "source": [
    "X_train_ori,y_train_1_3 = file_processor(\"/Users/yilanliu/Desktop/UC DAVIS/STA 141C/HW1/E2006.train\")\n",
    "X_test_1_3,y_test_1_3 = file_processor(\"/Users/yilanliu/Desktop/UC DAVIS/STA 141C/HW1/E2006.test\")"
   ]
  },
  {
   "cell_type": "code",
   "execution_count": 21,
   "metadata": {},
   "outputs": [
    {
     "data": {
      "text/plain": [
       "(16087, 150360)"
      ]
     },
     "execution_count": 21,
     "metadata": {},
     "output_type": "execute_result"
    }
   ],
   "source": [
    "X_train_ori.shape"
   ]
  },
  {
   "cell_type": "code",
   "execution_count": 22,
   "metadata": {},
   "outputs": [
    {
     "data": {
      "text/plain": [
       "(3308, 150358)"
      ]
     },
     "execution_count": 22,
     "metadata": {},
     "output_type": "execute_result"
    }
   ],
   "source": [
    "X_test_1_3.shape"
   ]
  },
  {
   "cell_type": "markdown",
   "metadata": {},
   "source": [
    "Notice that the test and training matrix are different, thus we decide to delete the last two colunm of train matrix to match with test matrix."
   ]
  },
  {
   "cell_type": "code",
   "execution_count": 23,
   "metadata": {},
   "outputs": [],
   "source": [
    "X_train_1_3 = X_train_ori[:, 0: 150358]"
   ]
  },
  {
   "cell_type": "code",
   "execution_count": 24,
   "metadata": {},
   "outputs": [],
   "source": [
    "n, p = X_train_1_3.shape"
   ]
  },
  {
   "cell_type": "code",
   "execution_count": 25,
   "metadata": {},
   "outputs": [],
   "source": [
    "def mse_difficult(initial_value, eita,method):\n",
    "    w_train_1_3 = method (initial_value,eita,X_train_1_3,y_train_1_3,200)\n",
    "    w_train_1_3 = sparse.csr_matrix(w_train_1_3)\n",
    "    y_pred_1_3 = (X_test_1_3) @ w_train_1_3\n",
    "    mse = np.mean((y_pred_1_3 - y_test_1_3).data**2)\n",
    "    return mse"
   ]
  },
  {
   "cell_type": "code",
   "execution_count": 26,
   "metadata": {},
   "outputs": [],
   "source": [
    "initial_value_1_3 = np.transpose(np.matrix(np.random.uniform(-0.05,0.05,p)))\n"
   ]
  },
  {
   "cell_type": "code",
   "execution_count": 27,
   "metadata": {},
   "outputs": [
    {
     "data": {
      "text/plain": [
       "5.477064099185314"
      ]
     },
     "execution_count": 27,
     "metadata": {},
     "output_type": "execute_result"
    }
   ],
   "source": [
    "mse_difficult(initial_value_1_3,0.0001,gradient_descent_1)"
   ]
  },
  {
   "cell_type": "code",
   "execution_count": 29,
   "metadata": {},
   "outputs": [
    {
     "name": "stdout",
     "output_type": "stream",
     "text": [
      "0.1508845706493993\n",
      "0.15521797807877688\n",
      "5.477064099185314\n",
      "12.833994732645554\n",
      "13.988969433530038\n",
      "14.110144416707044\n"
     ]
    }
   ],
   "source": [
    "for i in range(6):\n",
    "    print(mse_difficult(initial_value_1_3,eita_list[i],gradient_descent_1))"
   ]
  },
  {
   "cell_type": "code",
   "execution_count": 30,
   "metadata": {},
   "outputs": [],
   "source": [
    "X,y = file_processor(\"/Users/yilanliu/Desktop/UC DAVIS/STA 141C/HW1/news20.binary\")"
   ]
  },
  {
   "cell_type": "code",
   "execution_count": 31,
   "metadata": {},
   "outputs": [],
   "source": [
    "X_train_2, X_test_2, y_train_2, y_test_2 = train_test_split(X, y, test_size=0.2)"
   ]
  },
  {
   "cell_type": "code",
   "execution_count": 32,
   "metadata": {},
   "outputs": [
    {
     "data": {
      "text/plain": [
       "(19996, 1355191)"
      ]
     },
     "execution_count": 32,
     "metadata": {},
     "output_type": "execute_result"
    }
   ],
   "source": [
    "X.shape"
   ]
  },
  {
   "cell_type": "code",
   "execution_count": 33,
   "metadata": {},
   "outputs": [],
   "source": [
    "n_tr, p = X_train_2.shape"
   ]
  },
  {
   "cell_type": "code",
   "execution_count": 34,
   "metadata": {},
   "outputs": [],
   "source": [
    "def gradient_logit(w,X,y):\n",
    "    yXt = -(y.multiply(X)).T\n",
    "    yXW = y.multiply(X) @ w\n",
    "    np.exp(yXW.data, out = yXW.data)\n",
    "    yXW.data = 1 / (yXW.data + 1)\n",
    "    gradient =   yXt @ yXW + w\n",
    "    return gradient"
   ]
  },
  {
   "cell_type": "code",
   "execution_count": 35,
   "metadata": {},
   "outputs": [],
   "source": [
    "def gradient_descent_2 (w,eita,X,y,limit):\n",
    "    X = X_train_2\n",
    "    y = y_train_2\n",
    "    r_0 = np.sqrt(sum(w.data**2))\n",
    "    error = 0.001\n",
    "    r_0_error = r_0 * error\n",
    "\n",
    "\n",
    "    for i in range (0,limit) :\n",
    "        gradient_for_one = gradient_logit(w,X,y)\n",
    "        norm_for_one = np.sqrt(sum(gradient_for_one.data**2))\n",
    "        if (norm_for_one < r_0_error):\n",
    "            break\n",
    "        else :\n",
    "            w = w - eita * gradient_for_one;\n",
    "            \n",
    "    return w"
   ]
  },
  {
   "cell_type": "code",
   "execution_count": 36,
   "metadata": {},
   "outputs": [],
   "source": [
    "initial_value_2 = np.matrix(np.random.uniform(-0.05,0.05,p)).T\n",
    "initial_value_2 = sparse.csr_matrix(initial_value_2)"
   ]
  },
  {
   "cell_type": "code",
   "execution_count": 113,
   "metadata": {},
   "outputs": [],
   "source": [
    "trial_1 = gradient_descent_2 (initial_value_2,0.01,X,y,200)"
   ]
  },
  {
   "cell_type": "code",
   "execution_count": 115,
   "metadata": {},
   "outputs": [
    {
     "data": {
      "text/plain": [
       "matrix([[ 0.03548833],\n",
       "        [ 0.21453628],\n",
       "        [ 0.36395045],\n",
       "        ...,\n",
       "        [-0.06674191],\n",
       "        [-0.06551046],\n",
       "        [-0.04206018]])"
      ]
     },
     "execution_count": 115,
     "metadata": {},
     "output_type": "execute_result"
    }
   ],
   "source": [
    "trial_1.todense(order=None, out=None)"
   ]
  },
  {
   "cell_type": "code",
   "execution_count": 37,
   "metadata": {},
   "outputs": [],
   "source": [
    "from sklearn.metrics import accuracy_score"
   ]
  },
  {
   "cell_type": "code",
   "execution_count": 38,
   "metadata": {},
   "outputs": [],
   "source": [
    "def accuarcy_2(eita,x_te, y_te):\n",
    "    w = gradient_descent_2 (initial_value_2,eita,X,y,200)\n",
    "    y_pred = sparse.csr_matrix.todense(x_te @ w)\n",
    "    y_pred[ y_pred > 0] =  1\n",
    "    y_pred[ y_pred < 0] = -1\n",
    "    n,b = y_te.shape\n",
    "    y_te = sparse.csr_matrix.todense(y_te)\n",
    "    accuarcy = accuracy_score(y_te,y_pred,normalize=False)\n",
    "    return accuarcy /n\n",
    "    \n",
    "    "
   ]
  },
  {
   "cell_type": "code",
   "execution_count": 39,
   "metadata": {},
   "outputs": [
    {
     "data": {
      "text/plain": [
       "0.928"
      ]
     },
     "execution_count": 39,
     "metadata": {},
     "output_type": "execute_result"
    }
   ],
   "source": [
    "accuarcy_2(0.01,X_test_2, y_test_2)"
   ]
  },
  {
   "cell_type": "code",
   "execution_count": 40,
   "metadata": {},
   "outputs": [
    {
     "name": "stdout",
     "output_type": "stream",
     "text": [
      "0.928\n",
      "0.879\n",
      "0.8155\n",
      "0.739\n",
      "0.53625\n",
      "0.5015\n"
     ]
    }
   ],
   "source": [
    "for i in range(6):\n",
    "    print(accuarcy_2(eita_list[i],X_test_2, y_test_2))"
   ]
  },
  {
   "cell_type": "code",
   "execution_count": null,
   "metadata": {},
   "outputs": [],
   "source": []
  }
 ],
 "metadata": {
  "kernelspec": {
   "display_name": "Python 3",
   "language": "python",
   "name": "python3"
  },
  "language_info": {
   "codemirror_mode": {
    "name": "ipython",
    "version": 3
   },
   "file_extension": ".py",
   "mimetype": "text/x-python",
   "name": "python",
   "nbconvert_exporter": "python",
   "pygments_lexer": "ipython3",
   "version": "3.6.4"
  }
 },
 "nbformat": 4,
 "nbformat_minor": 2
}
